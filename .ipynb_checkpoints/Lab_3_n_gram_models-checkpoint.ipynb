{
 "cells": [
  {
   "cell_type": "markdown",
   "metadata": {
    "id": "pZPX5UZr9sdd"
   },
   "source": [
    "\n",
    "<h1 style=\"font-family:verdana;font-size:300%;text-align:center;background-color:#f2f2f2;color:#0d0d0d\">AMMI NLP </h1>\n",
    "\n",
    "<h1 style=\"font-family:verdana;font-size:180%;text-align:Center;color:#993333\"> Lab 3: n-gram models </h1>\n",
    "\n",
    "In Today's lab we are going to implement a simple language model based on n-gram. n-gram models predicts the next word given previous pre-dermined words/context. For Instance, given a sentence like “when will you come back ___”, the model should predict the next correct word with high probability. n-gram has many other applications. For better understanding have a look at the following resources and also your lecture notes:\n",
    "\n",
    "- https://web.stanford.edu/~jurafsky/slp3/3.pdf\n",
    "- http://www.cs.columbia.edu/~mcollins/courses/nlp2011/notes/lm.pdf\n"
   ]
  },
  {
   "cell_type": "markdown",
   "metadata": {
    "id": "d_C9E3rbbFE5"
   },
   "source": [
    "**Big thanks to Amr Khalifa (AMMI Tutor 2019-2020) who improved this lab and made it to a Jupyter Notebook!**"
   ]
  },
  {
   "cell_type": "code",
   "execution_count": 1,
   "metadata": {
    "executionInfo": {
     "elapsed": 746,
     "status": "ok",
     "timestamp": 1619774178148,
     "user": {
      "displayName": "Jama Hussein Mohamud",
      "photoUrl": "https://lh3.googleusercontent.com/a-/AOh14GiZpZCvNOudIoa30m3w-teJBHHzhLZyBP3F0qWo=s64",
      "userId": "17286202459104527240"
     },
     "user_tz": 0
    },
    "id": "Y0l9fD5c9sdk"
   },
   "outputs": [],
   "source": [
    "import io, sys, math, re\n",
    "from collections import defaultdict\n",
    "import numpy as np"
   ]
  },
  {
   "cell_type": "code",
   "execution_count": 2,
   "metadata": {
    "executionInfo": {
     "elapsed": 628,
     "status": "ok",
     "timestamp": 1619774234115,
     "user": {
      "displayName": "Jama Hussein Mohamud",
      "photoUrl": "https://lh3.googleusercontent.com/a-/AOh14GiZpZCvNOudIoa30m3w-teJBHHzhLZyBP3F0qWo=s64",
      "userId": "17286202459104527240"
     },
     "user_tz": 0
    },
    "id": "EV7o3REN9sdl"
   },
   "outputs": [],
   "source": [
    "# data_loader\n",
    "def load_data(filename):\n",
    "    '''\n",
    "    parameters:\n",
    "    filename (string): datafile\n",
    "    \n",
    "    Returns:+++\n",
    "    data (list of lists): each list is a sentence of the text \n",
    "    vocab (dictionary): {word: no of times it appears in the text}\n",
    "    '''\n",
    "    fin = io.open(filename, 'r', encoding='utf-8')\n",
    "    data = []\n",
    "    vocab = defaultdict(lambda:0)\n",
    "    for line in fin:\n",
    "        sentence = line.split()\n",
    "        data.append(sentence)\n",
    "        for word in sentence:\n",
    "            vocab[word] += 1\n",
    "    return data, vocab"
   ]
  },
  {
   "cell_type": "code",
   "execution_count": 3,
   "metadata": {
    "colab": {
     "base_uri": "https://localhost:8080/"
    },
    "executionInfo": {
     "elapsed": 1540,
     "status": "ok",
     "timestamp": 1619774247712,
     "user": {
      "displayName": "Jama Hussein Mohamud",
      "photoUrl": "https://lh3.googleusercontent.com/a-/AOh14GiZpZCvNOudIoa30m3w-teJBHHzhLZyBP3F0qWo=s64",
      "userId": "17286202459104527240"
     },
     "user_tz": 0
    },
    "id": "D0brQ6p39sdm",
    "outputId": "fbf6db13-5ab0-4249-95d8-b065adbe5191"
   },
   "outputs": [
    {
     "name": "stdout",
     "output_type": "stream",
     "text": [
      "load training set..\n",
      "\n",
      "\n",
      "['<s>', 'my', 'fathers', \"don't\", 'speak', 'dutch.', '</s>']\n",
      "\n",
      "\n",
      "how : 107\n",
      "load validation set\n"
     ]
    }
   ],
   "source": [
    "\n",
    "print(\"load training set..\")\n",
    "print(\"\\n\")\n",
    "train_data, vocab = load_data(\"train1.txt\")\n",
    "print(train_data[0])\n",
    "print(\"\\n\")\n",
    "print(\"how :\",vocab['how'])\n",
    "print(\"load validation set\")\n",
    "valid_data, _ = load_data(\"valid1.txt\")\n"
   ]
  },
  {
   "cell_type": "code",
   "execution_count": 4,
   "metadata": {
    "id": "Zp0ndjBO9sdm"
   },
   "outputs": [],
   "source": [
    "def remove_rare_words(data, vocab, mincount = 1):\n",
    "    '''\n",
    "    Parameters:\n",
    "    data (list of lists): each list is a sentence of the text \n",
    "    vocab (dictionary): {word: no of times it appears in the text}\n",
    "    mincount(int): the minimum count \n",
    "    \n",
    "    Returns: \n",
    "    data_with_unk(list of lists): data after replacing rare words with <unk> token\n",
    "    '''\n",
    "    # replace words in data that are not in the vocab \n",
    "    # or have a count that is below mincount\n",
    "    data_with_unk = []\n",
    "\n",
    "    ## FILL CODE\n",
    "    for sentence in data:\n",
    "        s = []\n",
    "        for word in sentence:\n",
    "            if word not in vocab or vocab[word] <= mincount:\n",
    "                s.append('<unk>')\n",
    "            else:\n",
    "                s.append(word)\n",
    "        data_with_unk.append(s)\n",
    "    \n",
    "    return data_with_unk"
   ]
  },
  {
   "cell_type": "code",
   "execution_count": 5,
   "metadata": {
    "id": "ABB_JEFq9sdm"
   },
   "outputs": [
    {
     "name": "stdout",
     "output_type": "stream",
     "text": [
      "remove rare words\n",
      "['<s>', 'my', '<unk>', \"don't\", 'speak', '<unk>', '</s>']\n"
     ]
    }
   ],
   "source": [
    "print(\"remove rare words\")\n",
    "train_data = remove_rare_words(train_data, vocab, mincount = 1)\n",
    "valid_data = remove_rare_words(valid_data, vocab, mincount = 1)\n",
    "#train_data\n",
    "print(train_data[0])\n"
   ]
  },
  {
   "cell_type": "markdown",
   "metadata": {
    "id": "G-Y3YNRp5yhd"
   },
   "source": [
    "For Example, in bigram we have:\n",
    "\n",
    "$$P(w_t|w_{t-1}) = \\frac{c(w_{t-1}, w_t)}{c(w_{t-1})}$$\n",
    "\n",
    "Please generalize this to n-gram, n being any positive number. "
   ]
  },
  {
   "cell_type": "code",
   "execution_count": 6,
   "metadata": {
    "id": "bCMyEVYF9sdn"
   },
   "outputs": [],
   "source": [
    "def build_ngram(data, n):\n",
    "    '''\n",
    "    Parameters:\n",
    "    data (list of lists): each list is a sentence of the text \n",
    "    n (int): size of the n-gram\n",
    "    \n",
    "    Returns:\n",
    "    prob (dictionary of dictionary)\n",
    "    {\n",
    "        context: {word:probability of this word given context}\n",
    "    }\n",
    "    '''\n",
    "    total_number_words = 0\n",
    "    counts = defaultdict(lambda: defaultdict(lambda: 0.0))\n",
    "\n",
    "    for sentence in data:\n",
    "        sentence = tuple(sentence)\n",
    "        ## FILL CODE\n",
    "        # dict can be indexed by tuples\n",
    "        # store in the same dict all the ngrams\n",
    "        # by using the context as a key and the word as a value\n",
    "    \n",
    "        for i in range(len(sentence)):\n",
    "            for k in range(n):\n",
    "                if i < k:\n",
    "                    break   \n",
    "                context = sentence[i-k:i]\n",
    "                #print(context, sentence[i])\n",
    "                counts[context][sentence[i]] += 1\n",
    "\n",
    "    prob = defaultdict(lambda: defaultdict(lambda: 0.0))\n",
    "    # Build the probabilities from the counts\n",
    "    # Be careful with how you normalize!\n",
    "\n",
    "    for context in counts.keys():\n",
    "    ## FILL CODE\n",
    "        context_den = 0\n",
    "        \n",
    "        for w in counts[context].keys():\n",
    "            context_den += counts[context][w]\n",
    "        \n",
    "        for w in counts[context].keys():\n",
    "            prob[context][w] = counts[context][w]/context_den\n",
    "\n",
    "    return prob"
   ]
  },
  {
   "cell_type": "code",
   "execution_count": 7,
   "metadata": {
    "id": "6ISkBICZ9sdn"
   },
   "outputs": [
    {
     "name": "stdout",
     "output_type": "stream",
     "text": [
      "build ngram model with n =  4\n"
     ]
    }
   ],
   "source": [
    "# RUN TO BUILD NGRAM MODEL\n",
    "\n",
    "n = 4\n",
    "print(\"build ngram model with n = \", n)\n",
    "model = build_ngram(train_data, n)"
   ]
  },
  {
   "cell_type": "markdown",
   "metadata": {
    "id": "ajl36vjM9sdo"
   },
   "source": [
    "Here, implement a recursive function over shorter and shorter context to compute a \"stupid backoff model\". An interpolation model can also be implemented this way."
   ]
  },
  {
   "cell_type": "markdown",
   "metadata": {
    "id": "HbkLs_BcPP-b"
   },
   "source": [
    "Stupid backoff:\n",
    "\n",
    "if $c(w_{t-n+1} ... w_t) > 0:$\n",
    "$$P_{bo}(w_t|w_{t-n+1} ... w_{t-1}) = \\frac{c(w_{t-n+1} ... w_t)}{c(w_{t-n+1} ... w_{t-1})}$$\n",
    "\n",
    "else backoff to (n-1) gram:\n",
    "$$ P_{bo}(w_t|w_{t-n+1} ... w_{t-1}) = 0.4 P_{bo}(w_t|w_{t-n+2} ... w_{t-1})$$\n"
   ]
  },
  {
   "cell_type": "code",
   "execution_count": 8,
   "metadata": {
    "id": "eklm_X-M9sdo"
   },
   "outputs": [],
   "source": [
    "def get_prob(model, context, w):\n",
    "    '''\n",
    "    Parameters: \n",
    "    model (dictionary of dictionary)\n",
    "    {\n",
    "        context: {word:probability of this word given context}\n",
    "    } \n",
    "    context (list of strings): a sentence\n",
    "    w(string): the word we need to find it's probability given the context\n",
    "    \n",
    "    Retunrs:\n",
    "    prob(float): probability of this word given the context \n",
    "    '''\n",
    "\n",
    "    # code a recursive function over \n",
    "    # smaller and smaller context\n",
    "    # to compute the backoff model\n",
    "    \n",
    "    ## FILL CODE\n",
    "    context = tuple(context)\n",
    "    #print(model[context][w])\n",
    "    if model[context][w] > 0.0:\n",
    "        return model[context][w]\n",
    "    else:\n",
    "        return 0.4 * get_prob(model, context[1:], w)\n",
    "\n",
    "    #return 0.0\n"
   ]
  },
  {
   "cell_type": "markdown",
   "metadata": {
    "id": "6k1NzI4fJJuc"
   },
   "source": [
    "$$Perplexity = 2 ^ {-L}$$\n",
    "\n",
    "$$ L = \\frac{1}{M} \\sum_{i=1}^N log_2 p(s_i)$$\n",
    "\n",
    "N = number of sentences\n",
    "\n",
    "M = total number of words in the test corpus $C$\n",
    "\n",
    "$p(s_i) = P(w_t|w_{t-1}, ...., w_1)$ ----> probability of the sentence.\n",
    "\n",
    "$s_1, s_2, ...., s_N \\in C$\n",
    "\n"
   ]
  },
  {
   "cell_type": "code",
   "execution_count": 9,
   "metadata": {
    "id": "kEGp9rDZ9sdp"
   },
   "outputs": [],
   "source": [
    "import math\n",
    "\n",
    "def perplexity(model, data, n):\n",
    "    '''\n",
    "    Parameters: \n",
    "    model (dictionary of dictionary)\n",
    "    {\n",
    "        context: {word:probability of this word given context}\n",
    "    } \n",
    "    data (list of lists): each list is a sentence of the text\n",
    "    n(int): size of the n-gram\n",
    "    \n",
    "    Retunrs:\n",
    "    perp(float): the perplexity of the model \n",
    "    '''\n",
    "    ## FILL CODE\n",
    "    M = 0\n",
    "    sp = 0\n",
    "    \n",
    "    for sentence in data:\n",
    "        sentence = tuple(sentence)\n",
    "\n",
    "        for i in range(1, len(sentence)):\n",
    "            nc = min(i, n-1)\n",
    "            context = sentence[i-nc:i]\n",
    "            sp += math.log(get_prob(model, context, sentence[i]), 2)\n",
    "            M += 1\n",
    "        \n",
    "    L = 1/M * sp\n",
    "    perp = 2**(-L)\n",
    "\n",
    "    return perp"
   ]
  },
  {
   "cell_type": "code",
   "execution_count": 10,
   "metadata": {
    "id": "-irEdYtB9sdp"
   },
   "outputs": [
    {
     "name": "stdout",
     "output_type": "stream",
     "text": [
      "The perplexity is 109.0070144943816\n"
     ]
    }
   ],
   "source": [
    "# COMPUTE PERPLEXITY ON VALIDATION SET\n",
    "\n",
    "print(\"The perplexity is\", perplexity(model, valid_data, n=n))"
   ]
  },
  {
   "cell_type": "code",
   "execution_count": 58,
   "metadata": {
    "id": "AZlE2jei9sdp"
   },
   "outputs": [],
   "source": [
    "def get_proba_distrib(model, context):\n",
    "    ## need to get the the words after the context and their probability of appearance\n",
    "    ## after this context \n",
    "    '''\n",
    "    Parameters: \n",
    "    model (dictionary of dictionary)\n",
    "    {\n",
    "        context: {word:probability of this word given context}\n",
    "    }\n",
    "    context (list of strings): the sentence we need to find the words after it and \n",
    "    thier probabilites\n",
    "    \n",
    "    Retunrs:\n",
    "    words_and_probs(dic): {word: probability of word given context}\n",
    "    \n",
    "    '''\n",
    "    # code a recursive function over context\n",
    "    # to find the longest available ngram\n",
    "    \n",
    "    ## FILL CODE\n",
    "#     context = tuple(context)\n",
    "#     #print('i am here')\n",
    "#     #defaultdict(lambda: 0.0)\n",
    "#     words_and_probs = defaultdict(lambda: 0.0)\n",
    "#     words = [*model[context].keys()]\n",
    "#     for word in words:\n",
    "#         words_and_probs[word] = model[context][word]#get_prob(model, context, word)\n",
    "#     #print(words_and_probs)\n",
    "\n",
    "#     return words_and_probs\n",
    "\n",
    "#     print(model.keys())\n",
    "\n",
    "    if context in model:\n",
    "        return model[context]\n",
    "    else:\n",
    "        return get_proba_distrib(model, context[1:])\n",
    "    "
   ]
  },
  {
   "cell_type": "code",
   "execution_count": 59,
   "metadata": {
    "id": "PUh1IblO9sdq"
   },
   "outputs": [],
   "source": [
    "def generate(model):\n",
    "    '''\n",
    "    Parameters: \n",
    "    model (dictionary of dictionary)\n",
    "    {\n",
    "        context: {word:probability of this word given context}\n",
    "    }\n",
    "    \n",
    "    Retunrs:\n",
    "    sentence (list of strings): a sentence sampled according to the language model. \n",
    "    \n",
    "\n",
    "    '''\n",
    "    # generate a sentence. A sentence starts with a <s> and ends with a </s>\n",
    "    # Possiblly a use function is:\n",
    "    # np.random.choice(x, 1, p = y)\n",
    "\n",
    "    # where x is a list of things to sample from\n",
    "    # and y is a list of probability (of the same length as x)\n",
    "    #words_and_probs_ = {}\n",
    "    sentence = [\"<s>\"]\n",
    "    while sentence[-1] != \"</s>\" and len(sentence)<100:\n",
    "        ## FILL CODE\n",
    "        words_and_probs_ = get_proba_distrib(model, tuple(sentence))\n",
    "        x = list(words_and_probs_.keys())\n",
    "        y = list(words_and_probs_.values())\n",
    "        sample = np.random.choice(x, 1, p = y)[0]\n",
    "        sentence += [sample]\n",
    "        \n",
    "    return sentence"
   ]
  },
  {
   "cell_type": "code",
   "execution_count": 66,
   "metadata": {
    "id": "tAZhBbIs9sdr"
   },
   "outputs": [
    {
     "name": "stdout",
     "output_type": "stream",
     "text": [
      "Generated sentence:  ['<s>', 'tom', 'is', 'the', 'one', 'who', 'helped', 'mary', 'do', 'that.', '</s>']\n"
     ]
    }
   ],
   "source": [
    "# GENERATE A SENTENCE FROM THE MODEL\n",
    "\n",
    "print(\"Generated sentence: \", generate(model))"
   ]
  },
  {
   "cell_type": "code",
   "execution_count": 70,
   "metadata": {},
   "outputs": [
    {
     "data": {
      "text/plain": [
       "array(['Christopher'], dtype='<U11')"
      ]
     },
     "execution_count": 70,
     "metadata": {},
     "output_type": "execute_result"
    }
   ],
   "source": [
    "aa_milne_arr = ['pooh', 'rabbit', 'piglet', 'Christopher']\n",
    "np.random.choice(aa_milne_arr, 1, p=[0.5, 0.1, 0.1, 0.3])"
   ]
  },
  {
   "cell_type": "markdown",
   "metadata": {
    "id": "GRC6szDQ9sdr"
   },
   "source": [
    "Once you are done implementing the model, evaluation and generation code, you can try changing the value of `n`, and play with a larger training set (`train2.txt` and `valid2.txt`). You can also try to implement an interpolation model."
   ]
  },
  {
   "cell_type": "code",
   "execution_count": 121,
   "metadata": {
    "id": "lumWcHzt9sdr"
   },
   "outputs": [
    {
     "data": {
      "text/plain": [
       "('an', 'nhv')"
      ]
     },
     "execution_count": 121,
     "metadata": {},
     "output_type": "execute_result"
    }
   ],
   "source": [
    "x = ['an', 'nhv']\n",
    "tuple(tuple(x))"
   ]
  },
  {
   "cell_type": "code",
   "execution_count": null,
   "metadata": {
    "id": "JFjzr33lbHZh"
   },
   "outputs": [],
   "source": []
  },
  {
   "cell_type": "code",
   "execution_count": null,
   "metadata": {
    "id": "VRpE3LfFbHcd"
   },
   "outputs": [],
   "source": []
  },
  {
   "cell_type": "code",
   "execution_count": null,
   "metadata": {
    "id": "3Nl30Ds_bHfc"
   },
   "outputs": [],
   "source": []
  },
  {
   "cell_type": "code",
   "execution_count": null,
   "metadata": {
    "id": "UB3dhG1ybHij"
   },
   "outputs": [],
   "source": []
  },
  {
   "cell_type": "code",
   "execution_count": null,
   "metadata": {
    "id": "aGO5bdTybHlm"
   },
   "outputs": [],
   "source": []
  },
  {
   "cell_type": "code",
   "execution_count": null,
   "metadata": {
    "id": "7G4GHhgQbHoQ"
   },
   "outputs": [],
   "source": []
  }
 ],
 "metadata": {
  "colab": {
   "collapsed_sections": [],
   "name": "Lab_3_n_gram_models.ipynb",
   "provenance": []
  },
  "kernelspec": {
   "display_name": "Python 3",
   "language": "python",
   "name": "python3"
  },
  "language_info": {
   "codemirror_mode": {
    "name": "ipython",
    "version": 3
   },
   "file_extension": ".py",
   "mimetype": "text/x-python",
   "name": "python",
   "nbconvert_exporter": "python",
   "pygments_lexer": "ipython3",
   "version": "3.8.5"
  }
 },
 "nbformat": 4,
 "nbformat_minor": 4
}
